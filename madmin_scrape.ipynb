{
 "cells": [
  {
   "cell_type": "code",
   "execution_count": 5,
   "metadata": {},
   "outputs": [],
   "source": [
    "import requests\n",
    "from bs4 import BeautifulSoup\n",
    "import pandas as pd"
   ]
  },
  {
   "cell_type": "code",
   "execution_count": 3,
   "metadata": {},
   "outputs": [],
   "source": [
    "url = 'https://www.marines.mil/News/Messages/MARADMINS/Customstatus/4000/'"
   ]
  },
  {
   "cell_type": "code",
   "execution_count": 6,
   "metadata": {},
   "outputs": [],
   "source": [
    "data = []"
   ]
  },
  {
   "cell_type": "code",
   "execution_count": 7,
   "metadata": {},
   "outputs": [
    {
     "name": "stdout",
     "output_type": "stream",
     "text": [
      "Failed to scrape None\n",
      "Failed to scrape None\n",
      "Failed to scrape #skip-target\n",
      "Failed to scrape javascript:void(0)\n",
      "Failed to scrape javascript:void(0)\n",
      "Failed to scrape javascript:void(0);\n",
      "Failed to scrape None\n",
      "Failed to scrape None\n",
      "Failed to scrape None\n",
      "Failed to scrape javascript:__doPostBack('dnn$ctr505$Dashboard$ctl03','')\n",
      "Failed to scrape None\n",
      "Failed to scrape javascript:SwitchGrid();\n",
      "Failed to scrape javascript:SwitchList();\n",
      "Failed to scrape #\n",
      "Failed to scrape /\n",
      "Failed to scrape /The-Corps/\n",
      "Failed to scrape /The-Corps/Units\n",
      "Failed to scrape /news\n",
      "Failed to scrape /photos\n",
      "Failed to scrape /leaders\n",
      "Failed to scrape /marines\n",
      "Failed to scrape /family\n",
      "Failed to scrape /community\n",
      "Failed to scrape /Contact-Us\n",
      "Failed to scrape /faqs\n",
      "Failed to scrape /News/Social-Media\n",
      "Failed to scrape /rss\n",
      "Failed to scrape None\n"
     ]
    }
   ],
   "source": [
    "# Send a GET request to the URL\n",
    "response = requests.get(url)\n",
    "\n",
    "# Parse the HTML content of the page with BeautifulSoup\n",
    "soup = BeautifulSoup(response.content, 'html.parser')\n",
    "\n",
    "# Find all links on the page\n",
    "links = soup.find_all('a')\n",
    "\n",
    "# Loop through each link and scrape the text from the linked page\n",
    "for link in links:\n",
    "    # Get the URL of the linked page\n",
    "    link_url = link.get('href')\n",
    "    \n",
    "    try:\n",
    "        # Send a GET request to the linked page\n",
    "        link_response = requests.get(link_url)\n",
    "        \n",
    "        # Parse the HTML content of the linked page with BeautifulSoup\n",
    "        link_soup = BeautifulSoup(link_response.content, 'html.parser')\n",
    "        \n",
    "        # Get all text from the linked page\n",
    "        text = link_soup.get_text()\n",
    "        \n",
    "        # Print the text\n",
    "        data.append(text)\n",
    "    except:\n",
    "        # Print an error message if the link fails\n",
    "        print(f\"Failed to scrape {link_url}\")"
   ]
  },
  {
   "cell_type": "code",
   "execution_count": 8,
   "metadata": {},
   "outputs": [],
   "source": [
    "dataDf = pd.DataFrame(data)\n",
    "dataDf.to_csv('./MARADMINS/madmin_scrape.csv', index=False)"
   ]
  }
 ],
 "metadata": {
  "kernelspec": {
   "display_name": "Python 3",
   "language": "python",
   "name": "python3"
  },
  "language_info": {
   "codemirror_mode": {
    "name": "ipython",
    "version": 3
   },
   "file_extension": ".py",
   "mimetype": "text/x-python",
   "name": "python",
   "nbconvert_exporter": "python",
   "pygments_lexer": "ipython3",
   "version": "3.9.10"
  },
  "orig_nbformat": 4
 },
 "nbformat": 4,
 "nbformat_minor": 2
}
